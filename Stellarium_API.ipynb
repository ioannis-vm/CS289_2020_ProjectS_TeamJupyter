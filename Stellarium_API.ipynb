{
 "cells": [
  {
   "cell_type": "markdown",
   "metadata": {},
   "source": [
    "# Stellarium API - Data gathering"
   ]
  },
  {
   "cell_type": "markdown",
   "metadata": {},
   "source": [
    "## Information\n",
    "\n",
    "#### What this jupyter notebook does\n",
    "This jupyter notebook can be used to extract data from Stellarium using the Stellarium remote control plugin that can allow for HTTP requests to be sent to Stellarium.\n",
    "\n",
    "#### Stellarium?\n",
    "Stellarium is an open-source free-software planetarium, licensed under the terms of the GNU General Public License version 2, available for Linux, Windows, and macOS. A port Stellarium called Stellarium Mobile is available for Android, iOS, and Symbian as a paid version, being developed by Noctua Software. All versions use OpenGL to render a realistic projection of the night sky in real time.\n",
    "[Source: wikipedia](https://en.wikipedia.org/wiki/Stellarium_(software))"
   ]
  },
  {
   "cell_type": "markdown",
   "metadata": {},
   "source": [
    "### Useful resources\n",
    "\n",
    "[Official Stellarium website](http://stellarium.org/)\n",
    "\n",
    "[How to use Stellarium HTTP API, by Laura Durieux](https://medium.com/@lauradurieux/how-to-use-stellarium-http-api-f0942d2c8820) contains useful information on how to set things up.\n",
    "\n",
    "For other available API calls, [visit the remoteControlApi webpage](https://stellarium.org/doc/head/remoteControlApi.html)"
   ]
  },
  {
   "cell_type": "markdown",
   "metadata": {},
   "source": [
    "## How to set things up\n",
    "Using the jupyter notebooks provided herein requires having Python 3 and Stellarium installed. \n",
    "\n",
    "[Get Stellarium here](http://stellarium.org/)\n",
    "\n",
    "There are a couple of necessary steps that one needs to take before they can use the provided jupyter notebooks.\n",
    "\n",
    "1. **Enable the remote control plugin**. Open Stellarium and press F11 on the keyboard to get out of full screen mode. Then, press F2 to bring up the Configuration menu. On the top pane, click the Plugins tab. On the left, navigate to Remote Control. Check the *Load at startup* checkbox. Then close the window and restart Stellarium. Press F11, then F2, navigate back to the Remote Control page, and click configure. You need to check the two boxes on top, that read \"Server enabled\", and \"Enable automatically on startup\" Make sure the port number reads **8090**. If you would like to use a different port, you will have to manually update that number in the notebooks as well. We haven't tried changing the port. Click Save settings and close the window. Restart Stellarium. *Note that you will only have to do this once.*\n",
    "2. **Time zone - location settings**. Press F6 to bring up the Location window. You will need to uncheck the box that reads *\"Get location from Network\"*, check *\"Use custom time zone\"*, and uncheck *\"enable daylight saving time\"*. Set the Country field to *\"___\"*, and the Time zone to *\"UTC+00:00\"*. *Note that we have not found a command that can do those things using the API. You will have to change those settings each time you start Stellarium for the purpose of using the jupyter notebook"
   ]
  },
  {
   "cell_type": "markdown",
   "metadata": {},
   "source": [
    "## Required packages"
   ]
  },
  {
   "cell_type": "code",
   "execution_count": 1,
   "metadata": {},
   "outputs": [],
   "source": [
    "import urllib.request # URL handling modules\n",
    "from bs4 import BeautifulSoup # pulling data out of HTML\n",
    "import numpy as np # cientific computing\n",
    "import datetime # basic date and time types\n",
    "import jdcal # functions for converting between Julian dates and calendar dates\n",
    "import pandas as pd # data analysis\n",
    "from tqdm import tqdm # progress bars\n",
    "import pickle # object serialization"
   ]
  },
  {
   "cell_type": "markdown",
   "metadata": {},
   "source": [
    "## Function definitions"
   ]
  },
  {
   "cell_type": "code",
   "execution_count": 2,
   "metadata": {},
   "outputs": [],
   "source": [
    "def post_request(command,values):\n",
    "    '''\n",
    "    This function is used to send a POST request to the API,\n",
    "    where the options are defined in a dictionary.\n",
    "    These kinds of requests are used to make a change on Stellarium,\n",
    "    such us to change the current time or location.\n",
    "    '''\n",
    "    url = 'http://localhost:8090/api/' + command\n",
    "    data = urllib.parse.urlencode(values)\n",
    "    data = data.encode('ascii') # data should be bytes\n",
    "    req = urllib.request.Request(url, data)\n",
    "    with urllib.request.urlopen(req) as response:\n",
    "       x = response.read()\n",
    "    return x"
   ]
  },
  {
   "cell_type": "code",
   "execution_count": 3,
   "metadata": {},
   "outputs": [],
   "source": [
    "def get_request(command):\n",
    "    '''\n",
    "    This function is used to send a GET request to the API. No options required.\n",
    "    These kinds of requests are used to retrieve data from Stellarium.\n",
    "    '''\n",
    "    url = 'http://localhost:8090/api/' + command\n",
    "    req = urllib.request.Request(url)\n",
    "    with urllib.request.urlopen(req) as response:\n",
    "       html = response.read()\n",
    "    return html"
   ]
  },
  {
   "cell_type": "code",
   "execution_count": 4,
   "metadata": {},
   "outputs": [],
   "source": [
    "def locate_line(soup,elm):\n",
    "    '''\n",
    "    This function is used to parse the html retrieved using the \n",
    "    get_request function. It tries to find the line in which \n",
    "    the string passed by the elm variable appears and return what's after that.\n",
    "    It's purpose is to extract a specific piece of information and return it as text,\n",
    "    such as the hour angle or the distance from the sun.\n",
    "    '''\n",
    "    return [line.replace(elm,'').strip() for line in soup.prettify().split('\\n') if elm in line][0]"
   ]
  },
  {
   "cell_type": "code",
   "execution_count": 5,
   "metadata": {},
   "outputs": [],
   "source": [
    "def hrmnsec_to_hr(time):\n",
    "    \"\"\"\n",
    "    Converts a string of the form '1h10m10.59s' to\n",
    "    a floating point real number corresponding to hours\n",
    "    \"\"\"\n",
    "    return float(time.split('h')[0].strip()) + \\\n",
    "    float(((time.split('h')[1]).split('m'))[0])/60. + \\\n",
    "    float((time.split('h')[1]).split('m')[1].replace('s',''))/(60.**2)"
   ]
  },
  {
   "cell_type": "code",
   "execution_count": 6,
   "metadata": {},
   "outputs": [],
   "source": [
    "def ang_to_real(angle):\n",
    "    \"\"\"\n",
    "    Converts a string representing an angle of the form '+4°57\\'33.4\"'\n",
    "    to the corresponding angle in degrees.\n",
    "    \"\"\"\n",
    "    return float(angle.replace('\"','').split('°')[0]) + \\\n",
    "    float((angle.replace('\"','').split('°')[1]).split(\"'\")[0])/60.00 + \\\n",
    "    float((angle.replace('\"','').split('°')[1]).split(\"'\")[1])/(60.0**2)"
   ]
  },
  {
   "cell_type": "code",
   "execution_count": 7,
   "metadata": {},
   "outputs": [],
   "source": [
    "def get_location(body_name):\n",
    "    '''\n",
    "    This function sends a GET request to retrieve information for a given\n",
    "    celestial body. It returns a python list containing the quantities we\n",
    "    are interested in.\n",
    "    '''\n",
    "    call = 'objects/info?name=' + body_name\n",
    "    # API call\n",
    "    html = get_request(call)\n",
    "    soup = BeautifulSoup(html,'html.parser')\n",
    "    \n",
    "    # Get RA, Dec.\n",
    "    [ra, dec] = locate_line(soup,'RA/Dec (on date):').split('/')\n",
    "    # get Az. Alt.\n",
    "    [az, alt] = locate_line(soup,'Az./Alt.:').split('/')\n",
    "    # get distance from Earth (in AU)\n",
    "    distEarth = float(locate_line(soup,'Distance:').split('AU')[0].strip())\n",
    "    # get distance from the Sun (in AU)\n",
    "    if body_name != 'Sun':\n",
    "        distSun = float(locate_line(soup,'Distance from Sun:').split('AU')[0].strip())\n",
    "    else:\n",
    "        distSun = 0.00\n",
    "    const = locate_line(soup,'IAU Constellation:')\n",
    "    # Parse times, angles and convert to float\n",
    "    ra = hrmnsec_to_hr(ra)\n",
    "    dec = ang_to_real(dec)\n",
    "    az = ang_to_real(az)\n",
    "    alt = ang_to_real(alt.replace(' (apparent)','').strip())\n",
    "    return [ra,dec,az,alt,distEarth,distSun,const]"
   ]
  },
  {
   "cell_type": "code",
   "execution_count": 8,
   "metadata": {},
   "outputs": [],
   "source": [
    "def update_location(lat,long):\n",
    "    \"\"\"\n",
    "    Use the API to change the location of the observer on Earth .\n",
    "    Latitude corresponds to degrees North\n",
    "    Longitude corresponds to degrees EAST << be careful!\n",
    "    \"\"\"\n",
    "    url = 'location/setlocationfields'\n",
    "    values = {'latitude' : str(lat),\n",
    "          'longitude' : str(long),\n",
    "         'altitude' : '0.00'}\n",
    "    res = post_request(url,values)"
   ]
  },
  {
   "cell_type": "code",
   "execution_count": 9,
   "metadata": {},
   "outputs": [],
   "source": [
    "def update_time(JD):\n",
    "    \"\"\"\n",
    "    Use the API to change the universal time (JD) \n",
    "    for which the quantities are reported.\n",
    "    The unit is Julian Day\n",
    "    https://en.wikipedia.org/wiki/Julian_day\n",
    "    \"\"\"\n",
    "    url = 'main/time'\n",
    "    values = {'time' : JD,\n",
    "          'timerate' : 0.00}\n",
    "    res = post_request(url,values)"
   ]
  },
  {
   "cell_type": "code",
   "execution_count": 10,
   "metadata": {},
   "outputs": [],
   "source": [
    "def get_JD_from_date(year,month,day):\n",
    "    \"\"\"\n",
    "    Convert calendar day to Julian Day\n",
    "    \"\"\"\n",
    "\n",
    "    return sum(jdcal.gcal2jd(year, month, day))"
   ]
  },
  {
   "cell_type": "code",
   "execution_count": 11,
   "metadata": {},
   "outputs": [],
   "source": [
    "from jdcal import MJD_0\n",
    "def get_date_from_JD(JD):\n",
    "    \"\"\"\n",
    "    Convert Julian Day to calendar day\n",
    "    \"\"\"\n",
    "    return jdcal.jd2gcal(MJD_0,JD-MJD_0)"
   ]
  },
  {
   "cell_type": "markdown",
   "metadata": {},
   "source": [
    "## Using the functions to retrieve historic data"
   ]
  },
  {
   "cell_type": "markdown",
   "metadata": {},
   "source": [
    "To allow for more flexibility, the rest of the tasks will not be wrapped in additional functions."
   ]
  },
  {
   "cell_type": "code",
   "execution_count": 12,
   "metadata": {},
   "outputs": [],
   "source": [
    "# Define celestial bodies of interest\n",
    "#bodies = ['Mercury','Venus','Mars','Jupiter','Saturn','Uranus','Neptune','Moon','Sun']\n",
    "bodies = ['Mars']"
   ]
  },
  {
   "cell_type": "code",
   "execution_count": 13,
   "metadata": {},
   "outputs": [],
   "source": [
    "start_date = get_JD_from_date(1582,1,1) # Set a start date (year, month day)\n",
    "end_date = get_JD_from_date(1602,1,1) # Set and end date\n",
    "\n",
    "# Number of days\n",
    "n_days = end_date - start_date\n",
    "\n",
    "n_daily_samples = 0.05 # Set how many measurments to collect every day\n",
    "                    # at evenly spaced invtervals\n",
    "\n",
    "# Number of samples\n",
    "n_samples = int(n_daily_samples * n_days)"
   ]
  },
  {
   "cell_type": "code",
   "execution_count": 14,
   "metadata": {},
   "outputs": [],
   "source": [
    "# Use this code block for random locations\n",
    "#n_locs = 5\n",
    "#locs = np.random.rand(n_locs,2)\n",
    "#locs[:,0] = locs[:,0]*90.\n",
    "#locs[:,1] = locs[:,1]*360."
   ]
  },
  {
   "cell_type": "code",
   "execution_count": 15,
   "metadata": {},
   "outputs": [],
   "source": [
    "# For this particular implementation\n",
    "# location will be fixed on Athens\n",
    "n_locs = 1\n",
    "locs = np.random.rand(n_locs,2) # initialize array\n",
    "locs[:,0] = 37.9838\n",
    "locs[:,1] = 23.7275"
   ]
  },
  {
   "cell_type": "code",
   "execution_count": 16,
   "metadata": {},
   "outputs": [
    {
     "data": {
      "text/plain": [
       "365"
      ]
     },
     "execution_count": 16,
     "metadata": {},
     "output_type": "execute_result"
    }
   ],
   "source": [
    "# Calculate the total number of rows of the dataframe\n",
    "n_rows = int(n_samples * n_locs * len(bodies))\n",
    "n_rows"
   ]
  },
  {
   "cell_type": "code",
   "execution_count": 17,
   "metadata": {},
   "outputs": [
    {
     "name": "stdout",
     "output_type": "stream",
     "text": [
      "0.03066 MB\n"
     ]
    }
   ],
   "source": [
    "# Estimate memory size of the final dataframe\n",
    "# Assuming no location data are stored in it!\n",
    "# We have:\n",
    "# 7 numeric quantities stored using 8 bytes\n",
    "# 2 character vectors, of an approximate length (5) and (3), taking 4 bytes per char\n",
    "# 7 * 8 + (5 + 4) * 4 = 84\n",
    "print(str(n_rows * 84 /1e6) + \" MB\")"
   ]
  },
  {
   "cell_type": "code",
   "execution_count": 18,
   "metadata": {},
   "outputs": [],
   "source": [
    "# Allocate memory in advance for fast execution\n",
    "floats = np.full((n_rows,6),0.00)\n",
    "constelations = np.full((n_rows),'',dtype=object)\n",
    "# We don't need to be storing the name of the object and the location on earth during this process.\n",
    "# In case of multiple locations on earth, \n",
    "# we would have to store them if we sampled a random location every time."
   ]
  },
  {
   "cell_type": "code",
   "execution_count": 19,
   "metadata": {},
   "outputs": [],
   "source": [
    "# Create a numpy array containing all datetimes of interset\n",
    "JD_array = np.arange(start_date,end_date,(end_date-start_date)/n_samples)"
   ]
  },
  {
   "cell_type": "code",
   "execution_count": 20,
   "metadata": {
    "scrolled": false
   },
   "outputs": [
    {
     "name": "stderr",
     "output_type": "stream",
     "text": [
      "100%|████████████████████████████████████████████████████████████████████████████████| 365/365 [00:05<00:00, 63.16it/s]\n"
     ]
    }
   ],
   "source": [
    "i = 0                              # Counter variable\n",
    "\n",
    "update_location(*locs[i])          # Update the location (only once in this case)\n",
    "                                   # ~So we took it out of the loop for faster execution~\n",
    "\n",
    "for JD in tqdm(JD_array):          # For each datetime\n",
    "    update_time(JD)                # Set Stellarium to this datetime\n",
    "    for body in bodies:            # And then for each celestial body of interest\n",
    "        tmp = get_location(body)   # Get data for that body\n",
    "        floats[i,:] = tmp[0:-1]    # Store all the numeric data\n",
    "        constelations[i] = tmp[-1] # And the constellation info in a char. array\n",
    "        i += 1                     # Next row"
   ]
  },
  {
   "cell_type": "markdown",
   "metadata": {},
   "source": [
    "A note on speed: On my machine, the tqdm measurement was averaging around 8 datetimes per second. If you interact with Stellarium (hover the mouse over the UI etc) while gathering the data it will slow things down. It is best to set it up and minimize it. "
   ]
  },
  {
   "cell_type": "code",
   "execution_count": 21,
   "metadata": {},
   "outputs": [],
   "source": [
    "# Uncomment for extra safety when gathering vast amounts of data.\n",
    "# Make sure to rename the files if you run it more than once with different time-windows, to\n",
    "# avoiding losing previous work.\n",
    "\n",
    "#np.save('floats',floats)\n",
    "#np.save('constellations',constelations)"
   ]
  },
  {
   "cell_type": "code",
   "execution_count": 22,
   "metadata": {},
   "outputs": [],
   "source": [
    "# Now that we have gathered the observations, we can create the dataframe.\n",
    "body_name_array = np.array(bodies * n_samples)\n",
    "# We won't store the longitude and latitude in the dataframe. It will be always the same, and there is no need to repeat that information so many times.\n",
    "df = pd.DataFrame(data = {'JD' : JD_array.repeat(len(bodies)),\n",
    "                          'Body'     : body_name_array,\n",
    "                          'RA'       : floats[:,0],\n",
    "                          'Dec'      : floats[:,1],\n",
    "                          'Az'       : floats[:,2],\n",
    "                          'Alt'      : floats[:,3],\n",
    "                          'Dist'     : floats[:,4],\n",
    "                          'Dist_Sun' : floats[:,5],\n",
    "                          'Const'    : constelations \n",
    "})\n",
    "del floats\n",
    "del constelations"
   ]
  },
  {
   "cell_type": "code",
   "execution_count": 23,
   "metadata": {
    "scrolled": false
   },
   "outputs": [
    {
     "data": {
      "text/html": [
       "<div>\n",
       "<style scoped>\n",
       "    .dataframe tbody tr th:only-of-type {\n",
       "        vertical-align: middle;\n",
       "    }\n",
       "\n",
       "    .dataframe tbody tr th {\n",
       "        vertical-align: top;\n",
       "    }\n",
       "\n",
       "    .dataframe thead th {\n",
       "        text-align: right;\n",
       "    }\n",
       "</style>\n",
       "<table border=\"1\" class=\"dataframe\">\n",
       "  <thead>\n",
       "    <tr style=\"text-align: right;\">\n",
       "      <th></th>\n",
       "      <th>JD</th>\n",
       "      <th>Body</th>\n",
       "      <th>RA</th>\n",
       "      <th>Dec</th>\n",
       "      <th>Az</th>\n",
       "      <th>Alt</th>\n",
       "      <th>Dist</th>\n",
       "      <th>Dist_Sun</th>\n",
       "      <th>Const</th>\n",
       "    </tr>\n",
       "  </thead>\n",
       "  <tbody>\n",
       "    <tr>\n",
       "      <th>0</th>\n",
       "      <td>2.298874e+06</td>\n",
       "      <td>Mars</td>\n",
       "      <td>21.660919</td>\n",
       "      <td>-14.817000</td>\n",
       "      <td>314.320361</td>\n",
       "      <td>-59.688833</td>\n",
       "      <td>1.948</td>\n",
       "      <td>1.472</td>\n",
       "      <td>Aqr</td>\n",
       "    </tr>\n",
       "    <tr>\n",
       "      <th>1</th>\n",
       "      <td>2.298894e+06</td>\n",
       "      <td>Mars</td>\n",
       "      <td>17.629803</td>\n",
       "      <td>-22.062833</td>\n",
       "      <td>78.874444</td>\n",
       "      <td>-52.326722</td>\n",
       "      <td>2.396</td>\n",
       "      <td>1.448</td>\n",
       "      <td>Sgr</td>\n",
       "    </tr>\n",
       "    <tr>\n",
       "      <th>2</th>\n",
       "      <td>2.298914e+06</td>\n",
       "      <td>Mars</td>\n",
       "      <td>18.729694</td>\n",
       "      <td>-22.148139</td>\n",
       "      <td>84.888639</td>\n",
       "      <td>-46.736722</td>\n",
       "      <td>2.326</td>\n",
       "      <td>1.426</td>\n",
       "      <td>Sgr</td>\n",
       "    </tr>\n",
       "    <tr>\n",
       "      <th>3</th>\n",
       "      <td>2.298934e+06</td>\n",
       "      <td>Mars</td>\n",
       "      <td>19.830533</td>\n",
       "      <td>-21.972000</td>\n",
       "      <td>88.125472</td>\n",
       "      <td>-38.092250</td>\n",
       "      <td>2.250</td>\n",
       "      <td>1.408</td>\n",
       "      <td>Cap</td>\n",
       "    </tr>\n",
       "    <tr>\n",
       "      <th>4</th>\n",
       "      <td>2.298954e+06</td>\n",
       "      <td>Mars</td>\n",
       "      <td>20.903608</td>\n",
       "      <td>-17.394722</td>\n",
       "      <td>89.936667</td>\n",
       "      <td>-30.693611</td>\n",
       "      <td>2.172</td>\n",
       "      <td>1.394</td>\n",
       "      <td>Cap</td>\n",
       "    </tr>\n",
       "    <tr>\n",
       "      <th>...</th>\n",
       "      <td>...</td>\n",
       "      <td>...</td>\n",
       "      <td>...</td>\n",
       "      <td>...</td>\n",
       "      <td>...</td>\n",
       "      <td>...</td>\n",
       "      <td>...</td>\n",
       "      <td>...</td>\n",
       "      <td>...</td>\n",
       "    </tr>\n",
       "    <tr>\n",
       "      <th>360</th>\n",
       "      <td>2.306078e+06</td>\n",
       "      <td>Mars</td>\n",
       "      <td>7.450439</td>\n",
       "      <td>22.795639</td>\n",
       "      <td>42.214111</td>\n",
       "      <td>-15.691056</td>\n",
       "      <td>2.002</td>\n",
       "      <td>1.587</td>\n",
       "      <td>Gem</td>\n",
       "    </tr>\n",
       "    <tr>\n",
       "      <th>361</th>\n",
       "      <td>2.306098e+06</td>\n",
       "      <td>Mars</td>\n",
       "      <td>8.318558</td>\n",
       "      <td>20.752028</td>\n",
       "      <td>52.228167</td>\n",
       "      <td>-10.823028</td>\n",
       "      <td>1.880</td>\n",
       "      <td>1.608</td>\n",
       "      <td>Cnc</td>\n",
       "    </tr>\n",
       "    <tr>\n",
       "      <th>362</th>\n",
       "      <td>2.306118e+06</td>\n",
       "      <td>Mars</td>\n",
       "      <td>9.119981</td>\n",
       "      <td>18.000778</td>\n",
       "      <td>62.732889</td>\n",
       "      <td>-3.262000</td>\n",
       "      <td>1.738</td>\n",
       "      <td>1.627</td>\n",
       "      <td>Leo</td>\n",
       "    </tr>\n",
       "    <tr>\n",
       "      <th>363</th>\n",
       "      <td>2.306138e+06</td>\n",
       "      <td>Mars</td>\n",
       "      <td>9.846661</td>\n",
       "      <td>14.872694</td>\n",
       "      <td>73.664500</td>\n",
       "      <td>3.505083</td>\n",
       "      <td>1.576</td>\n",
       "      <td>1.642</td>\n",
       "      <td>Leo</td>\n",
       "    </tr>\n",
       "    <tr>\n",
       "      <th>364</th>\n",
       "      <td>2.306158e+06</td>\n",
       "      <td>Mars</td>\n",
       "      <td>10.487747</td>\n",
       "      <td>11.729833</td>\n",
       "      <td>85.171389</td>\n",
       "      <td>13.089750</td>\n",
       "      <td>1.399</td>\n",
       "      <td>1.653</td>\n",
       "      <td>Leo</td>\n",
       "    </tr>\n",
       "  </tbody>\n",
       "</table>\n",
       "<p>365 rows × 9 columns</p>\n",
       "</div>"
      ],
      "text/plain": [
       "               JD  Body         RA        Dec          Az        Alt   Dist  \\\n",
       "0    2.298874e+06  Mars  21.660919 -14.817000  314.320361 -59.688833  1.948   \n",
       "1    2.298894e+06  Mars  17.629803 -22.062833   78.874444 -52.326722  2.396   \n",
       "2    2.298914e+06  Mars  18.729694 -22.148139   84.888639 -46.736722  2.326   \n",
       "3    2.298934e+06  Mars  19.830533 -21.972000   88.125472 -38.092250  2.250   \n",
       "4    2.298954e+06  Mars  20.903608 -17.394722   89.936667 -30.693611  2.172   \n",
       "..            ...   ...        ...        ...         ...        ...    ...   \n",
       "360  2.306078e+06  Mars   7.450439  22.795639   42.214111 -15.691056  2.002   \n",
       "361  2.306098e+06  Mars   8.318558  20.752028   52.228167 -10.823028  1.880   \n",
       "362  2.306118e+06  Mars   9.119981  18.000778   62.732889  -3.262000  1.738   \n",
       "363  2.306138e+06  Mars   9.846661  14.872694   73.664500   3.505083  1.576   \n",
       "364  2.306158e+06  Mars  10.487747  11.729833   85.171389  13.089750  1.399   \n",
       "\n",
       "     Dist_Sun Const  \n",
       "0       1.472   Aqr  \n",
       "1       1.448   Sgr  \n",
       "2       1.426   Sgr  \n",
       "3       1.408   Cap  \n",
       "4       1.394   Cap  \n",
       "..        ...   ...  \n",
       "360     1.587   Gem  \n",
       "361     1.608   Cnc  \n",
       "362     1.627   Leo  \n",
       "363     1.642   Leo  \n",
       "364     1.653   Leo  \n",
       "\n",
       "[365 rows x 9 columns]"
      ]
     },
     "execution_count": 23,
     "metadata": {},
     "output_type": "execute_result"
    }
   ],
   "source": [
    "df"
   ]
  },
  {
   "cell_type": "code",
   "execution_count": 24,
   "metadata": {},
   "outputs": [
    {
     "name": "stdout",
     "output_type": "stream",
     "text": [
      "<class 'pandas.core.frame.DataFrame'>\n",
      "RangeIndex: 365 entries, 0 to 364\n",
      "Data columns (total 9 columns):\n",
      " #   Column    Non-Null Count  Dtype  \n",
      "---  ------    --------------  -----  \n",
      " 0   JD        365 non-null    float64\n",
      " 1   Body      365 non-null    object \n",
      " 2   RA        365 non-null    float64\n",
      " 3   Dec       365 non-null    float64\n",
      " 4   Az        365 non-null    float64\n",
      " 5   Alt       365 non-null    float64\n",
      " 6   Dist      365 non-null    float64\n",
      " 7   Dist_Sun  365 non-null    float64\n",
      " 8   Const     365 non-null    object \n",
      "dtypes: float64(7), object(2)\n",
      "memory usage: 25.8+ KB\n"
     ]
    }
   ],
   "source": [
    "df.info()"
   ]
  },
  {
   "cell_type": "code",
   "execution_count": 25,
   "metadata": {},
   "outputs": [],
   "source": [
    "# Save the dataframe in binary form\n",
    "\n",
    "# Make sure to rename the files if you run it more than once with different time-windows, to\n",
    "# avoiding losing previous work.\n",
    "\n",
    "# df.to_pickle(\"1000to2020.df\")"
   ]
  },
  {
   "cell_type": "markdown",
   "metadata": {},
   "source": [
    "### Sanity checking"
   ]
  },
  {
   "cell_type": "code",
   "execution_count": 26,
   "metadata": {},
   "outputs": [],
   "source": [
    "test_index = 1 # Pick an index for cheking"
   ]
  },
  {
   "cell_type": "code",
   "execution_count": 27,
   "metadata": {},
   "outputs": [
    {
     "data": {
      "text/plain": [
       "JD          2.29889e+06\n",
       "Body               Mars\n",
       "RA              17.6298\n",
       "Dec            -22.0628\n",
       "Az              78.8744\n",
       "Alt            -52.3267\n",
       "Dist              2.396\n",
       "Dist_Sun          1.448\n",
       "Const               Sgr\n",
       "Name: 1, dtype: object"
      ]
     },
     "execution_count": 27,
     "metadata": {},
     "output_type": "execute_result"
    }
   ],
   "source": [
    "observation = df.iloc[test_index,:];\n",
    "observation"
   ]
  },
  {
   "cell_type": "code",
   "execution_count": 28,
   "metadata": {},
   "outputs": [
    {
     "name": "stdout",
     "output_type": "stream",
     "text": [
      "2298893.51369863\n"
     ]
    }
   ],
   "source": [
    "print(observation.JD)"
   ]
  },
  {
   "cell_type": "code",
   "execution_count": 29,
   "metadata": {},
   "outputs": [],
   "source": [
    "update_time(observation.JD)\n",
    "# Please check Stellarium!\n",
    "# (Find the particular celestial body and compare)"
   ]
  },
  {
   "cell_type": "markdown",
   "metadata": {},
   "source": [
    "# Making some example plots"
   ]
  },
  {
   "cell_type": "code",
   "execution_count": 30,
   "metadata": {},
   "outputs": [],
   "source": [
    "# Subset the data to obtain mars observations\n",
    "dfMars = df.loc[df['Body'] == 'Mars']\n",
    "#dfMars = dfMars[dfMars['JD'] > sum(jdcal.gcal2jd(1000, 1, 1))]\n",
    "#dfMars = dfMars[dfMars['JD'] < sum(jdcal.gcal2jd(1020, 1, 1))]"
   ]
  },
  {
   "cell_type": "code",
   "execution_count": 31,
   "metadata": {},
   "outputs": [
    {
     "data": {
      "text/html": [
       "<div>\n",
       "<style scoped>\n",
       "    .dataframe tbody tr th:only-of-type {\n",
       "        vertical-align: middle;\n",
       "    }\n",
       "\n",
       "    .dataframe tbody tr th {\n",
       "        vertical-align: top;\n",
       "    }\n",
       "\n",
       "    .dataframe thead th {\n",
       "        text-align: right;\n",
       "    }\n",
       "</style>\n",
       "<table border=\"1\" class=\"dataframe\">\n",
       "  <thead>\n",
       "    <tr style=\"text-align: right;\">\n",
       "      <th></th>\n",
       "      <th>JD</th>\n",
       "      <th>Body</th>\n",
       "      <th>RA</th>\n",
       "      <th>Dec</th>\n",
       "      <th>Az</th>\n",
       "      <th>Alt</th>\n",
       "      <th>Dist</th>\n",
       "      <th>Dist_Sun</th>\n",
       "      <th>Const</th>\n",
       "    </tr>\n",
       "  </thead>\n",
       "  <tbody>\n",
       "    <tr>\n",
       "      <th>0</th>\n",
       "      <td>2.298874e+06</td>\n",
       "      <td>Mars</td>\n",
       "      <td>21.660919</td>\n",
       "      <td>-14.817000</td>\n",
       "      <td>314.320361</td>\n",
       "      <td>-59.688833</td>\n",
       "      <td>1.948</td>\n",
       "      <td>1.472</td>\n",
       "      <td>Aqr</td>\n",
       "    </tr>\n",
       "    <tr>\n",
       "      <th>1</th>\n",
       "      <td>2.298894e+06</td>\n",
       "      <td>Mars</td>\n",
       "      <td>17.629803</td>\n",
       "      <td>-22.062833</td>\n",
       "      <td>78.874444</td>\n",
       "      <td>-52.326722</td>\n",
       "      <td>2.396</td>\n",
       "      <td>1.448</td>\n",
       "      <td>Sgr</td>\n",
       "    </tr>\n",
       "    <tr>\n",
       "      <th>2</th>\n",
       "      <td>2.298914e+06</td>\n",
       "      <td>Mars</td>\n",
       "      <td>18.729694</td>\n",
       "      <td>-22.148139</td>\n",
       "      <td>84.888639</td>\n",
       "      <td>-46.736722</td>\n",
       "      <td>2.326</td>\n",
       "      <td>1.426</td>\n",
       "      <td>Sgr</td>\n",
       "    </tr>\n",
       "    <tr>\n",
       "      <th>3</th>\n",
       "      <td>2.298934e+06</td>\n",
       "      <td>Mars</td>\n",
       "      <td>19.830533</td>\n",
       "      <td>-21.972000</td>\n",
       "      <td>88.125472</td>\n",
       "      <td>-38.092250</td>\n",
       "      <td>2.250</td>\n",
       "      <td>1.408</td>\n",
       "      <td>Cap</td>\n",
       "    </tr>\n",
       "    <tr>\n",
       "      <th>4</th>\n",
       "      <td>2.298954e+06</td>\n",
       "      <td>Mars</td>\n",
       "      <td>20.903608</td>\n",
       "      <td>-17.394722</td>\n",
       "      <td>89.936667</td>\n",
       "      <td>-30.693611</td>\n",
       "      <td>2.172</td>\n",
       "      <td>1.394</td>\n",
       "      <td>Cap</td>\n",
       "    </tr>\n",
       "    <tr>\n",
       "      <th>...</th>\n",
       "      <td>...</td>\n",
       "      <td>...</td>\n",
       "      <td>...</td>\n",
       "      <td>...</td>\n",
       "      <td>...</td>\n",
       "      <td>...</td>\n",
       "      <td>...</td>\n",
       "      <td>...</td>\n",
       "      <td>...</td>\n",
       "    </tr>\n",
       "    <tr>\n",
       "      <th>360</th>\n",
       "      <td>2.306078e+06</td>\n",
       "      <td>Mars</td>\n",
       "      <td>7.450439</td>\n",
       "      <td>22.795639</td>\n",
       "      <td>42.214111</td>\n",
       "      <td>-15.691056</td>\n",
       "      <td>2.002</td>\n",
       "      <td>1.587</td>\n",
       "      <td>Gem</td>\n",
       "    </tr>\n",
       "    <tr>\n",
       "      <th>361</th>\n",
       "      <td>2.306098e+06</td>\n",
       "      <td>Mars</td>\n",
       "      <td>8.318558</td>\n",
       "      <td>20.752028</td>\n",
       "      <td>52.228167</td>\n",
       "      <td>-10.823028</td>\n",
       "      <td>1.880</td>\n",
       "      <td>1.608</td>\n",
       "      <td>Cnc</td>\n",
       "    </tr>\n",
       "    <tr>\n",
       "      <th>362</th>\n",
       "      <td>2.306118e+06</td>\n",
       "      <td>Mars</td>\n",
       "      <td>9.119981</td>\n",
       "      <td>18.000778</td>\n",
       "      <td>62.732889</td>\n",
       "      <td>-3.262000</td>\n",
       "      <td>1.738</td>\n",
       "      <td>1.627</td>\n",
       "      <td>Leo</td>\n",
       "    </tr>\n",
       "    <tr>\n",
       "      <th>363</th>\n",
       "      <td>2.306138e+06</td>\n",
       "      <td>Mars</td>\n",
       "      <td>9.846661</td>\n",
       "      <td>14.872694</td>\n",
       "      <td>73.664500</td>\n",
       "      <td>3.505083</td>\n",
       "      <td>1.576</td>\n",
       "      <td>1.642</td>\n",
       "      <td>Leo</td>\n",
       "    </tr>\n",
       "    <tr>\n",
       "      <th>364</th>\n",
       "      <td>2.306158e+06</td>\n",
       "      <td>Mars</td>\n",
       "      <td>10.487747</td>\n",
       "      <td>11.729833</td>\n",
       "      <td>85.171389</td>\n",
       "      <td>13.089750</td>\n",
       "      <td>1.399</td>\n",
       "      <td>1.653</td>\n",
       "      <td>Leo</td>\n",
       "    </tr>\n",
       "  </tbody>\n",
       "</table>\n",
       "<p>365 rows × 9 columns</p>\n",
       "</div>"
      ],
      "text/plain": [
       "               JD  Body         RA        Dec          Az        Alt   Dist  \\\n",
       "0    2.298874e+06  Mars  21.660919 -14.817000  314.320361 -59.688833  1.948   \n",
       "1    2.298894e+06  Mars  17.629803 -22.062833   78.874444 -52.326722  2.396   \n",
       "2    2.298914e+06  Mars  18.729694 -22.148139   84.888639 -46.736722  2.326   \n",
       "3    2.298934e+06  Mars  19.830533 -21.972000   88.125472 -38.092250  2.250   \n",
       "4    2.298954e+06  Mars  20.903608 -17.394722   89.936667 -30.693611  2.172   \n",
       "..            ...   ...        ...        ...         ...        ...    ...   \n",
       "360  2.306078e+06  Mars   7.450439  22.795639   42.214111 -15.691056  2.002   \n",
       "361  2.306098e+06  Mars   8.318558  20.752028   52.228167 -10.823028  1.880   \n",
       "362  2.306118e+06  Mars   9.119981  18.000778   62.732889  -3.262000  1.738   \n",
       "363  2.306138e+06  Mars   9.846661  14.872694   73.664500   3.505083  1.576   \n",
       "364  2.306158e+06  Mars  10.487747  11.729833   85.171389  13.089750  1.399   \n",
       "\n",
       "     Dist_Sun Const  \n",
       "0       1.472   Aqr  \n",
       "1       1.448   Sgr  \n",
       "2       1.426   Sgr  \n",
       "3       1.408   Cap  \n",
       "4       1.394   Cap  \n",
       "..        ...   ...  \n",
       "360     1.587   Gem  \n",
       "361     1.608   Cnc  \n",
       "362     1.627   Leo  \n",
       "363     1.642   Leo  \n",
       "364     1.653   Leo  \n",
       "\n",
       "[365 rows x 9 columns]"
      ]
     },
     "execution_count": 31,
     "metadata": {},
     "output_type": "execute_result"
    }
   ],
   "source": [
    "# Data are already time-sorted - no neet to sort again!\n",
    "dfMars"
   ]
  },
  {
   "cell_type": "code",
   "execution_count": 32,
   "metadata": {},
   "outputs": [
    {
     "data": {
      "text/plain": [
       "array(['Aqr', 'Ari', 'Cap', 'Cnc', 'Gem', 'Leo', 'Lib', 'Oph', 'Psc',\n",
       "       'Sco', 'Sgr', 'Tau', 'Vir'], dtype=object)"
      ]
     },
     "execution_count": 32,
     "metadata": {},
     "output_type": "execute_result"
    }
   ],
   "source": [
    "# All distinct constellations that Mars has passed through at that time-window\n",
    "np.sort(dfMars.Const.unique())"
   ]
  },
  {
   "cell_type": "code",
   "execution_count": 33,
   "metadata": {},
   "outputs": [],
   "source": [
    "import seaborn as sns\n",
    "import matplotlib.pyplot as plt"
   ]
  },
  {
   "cell_type": "code",
   "execution_count": 34,
   "metadata": {},
   "outputs": [
    {
     "data": {
      "image/png": "[encoded data removed]",
      "text/plain": [
       "<Figure size 864x216 with 1 Axes>"
      ]
     },
     "metadata": {
      "needs_background": "light"
     },
     "output_type": "display_data"
    }
   ],
   "source": [
    "plt.figure(figsize=(12,3))\n",
    "chart = sns.lineplot(\n",
    "    data=dfMars, \n",
    "    x=\"JD\",\n",
    "    y=\"Dec\")\n",
    "chart.set_title(\"Declination of Mars (Degrees)\")\n",
    "plt.savefig('plot.svg')"
   ]
  },
  {
   "cell_type": "code",
   "execution_count": 35,
   "metadata": {},
   "outputs": [
    {
     "data": {
      "text/plain": [
       "Text(0.5, 1.0, 'Declination of Mars (Degrees)')"
      ]
     },
     "execution_count": 35,
     "metadata": {},
     "output_type": "execute_result"
    },
    {
     "data": {
      "image/png": "[encoded data removed]",
      "text/plain": [
       "<Figure size 864x216 with 1 Axes>"
      ]
     },
     "metadata": {
      "needs_background": "light"
     },
     "output_type": "display_data"
    }
   ],
   "source": [
    "plt.figure(figsize=(12,3))\n",
    "chart = sns.scatterplot(\n",
    "    data=dfMars, \n",
    "    x=\"JD\",\n",
    "    y=\"Dec\",\n",
    "    hue=\"Const\")\n",
    "chart.set_title(\"Declination of Mars (Degrees)\")"
   ]
  },
  {
   "cell_type": "code",
   "execution_count": 36,
   "metadata": {},
   "outputs": [
    {
     "data": {
      "text/plain": [
       "Text(0.5, 1.0, 'Distance between Mars and Earth (AU)')"
      ]
     },
     "execution_count": 36,
     "metadata": {},
     "output_type": "execute_result"
    },
    {
     "data": {
      "image/png": "[encoded data removed]",
      "text/plain": [
       "<Figure size 864x216 with 1 Axes>"
      ]
     },
     "metadata": {
      "needs_background": "light"
     },
     "output_type": "display_data"
    }
   ],
   "source": [
    "plt.figure(figsize=(12,3))\n",
    "sns.lineplot(\n",
    "    data=dfMars, \n",
    "    x=\"JD\", \n",
    "    y=\"Dist\").set_title(\"Distance between Mars and Earth (AU)\")"
   ]
  },
  {
   "cell_type": "code",
   "execution_count": null,
   "metadata": {},
   "outputs": [],
   "source": []
  }
 ],
 "metadata": {
  "kernelspec": {
   "display_name": "Python 3",
   "language": "python",
   "name": "python3"
  },
  "language_info": {
   "codemirror_mode": {
    "name": "ipython",
    "version": 3
   },
   "file_extension": ".py",
   "mimetype": "text/x-python",
   "name": "python",
   "nbconvert_exporter": "python",
   "pygments_lexer": "ipython3",
   "version": "3.7.6"
  }
 },
 "nbformat": 4,
 "nbformat_minor": 4
}
